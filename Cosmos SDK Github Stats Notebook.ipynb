{
 "cells": [
  {
   "cell_type": "code",
   "execution_count": 1,
   "metadata": {},
   "outputs": [],
   "source": [
    "import arrow\n",
    "from arrow import Arrow\n",
    "from github import Github\n",
    "from typing import Type\n",
    "import pandas as pd\n",
    "import numpy\n",
    "import time\n",
    "import os\n",
    "\n",
    "%load_ext dotenv\n",
    "%dotenv"
   ]
  },
  {
   "cell_type": "code",
   "execution_count": 2,
   "metadata": {},
   "outputs": [],
   "source": [
    "g = Github(os.environ['GITHUB_API_KEY'])\n",
    "\n",
    "# these filters are used to filter by issues or PRs where the author is a member of Regen's team\n",
    "# or where the PR was reviewed by a gaia team member\n",
    "team = ['yaruwangway','marbar3778', 'okwme']\n",
    "team_authored = \" \".join(['author:' + i for i in team])\n",
    "\n",
    "team_reviewed = \" \".join(['reviewed-by:' + i for i in team])"
   ]
  },
  {
   "cell_type": "code",
   "execution_count": 3,
   "metadata": {},
   "outputs": [
    {
     "output_type": "execute_result",
     "data": {
      "text/plain": [
       "['yaruwangway', 'marbar3778', 'okwme']"
      ]
     },
     "metadata": {},
     "execution_count": 3
    }
   ],
   "source": [
    "team"
   ]
  },
  {
   "cell_type": "code",
   "execution_count": 4,
   "metadata": {},
   "outputs": [],
   "source": [
    "FMT = 'YYYY-MM-DD'\n",
    "REPO = 'cosmos/gaia'\n",
    "\n",
    "\n",
    "def end_of_month(date: Arrow) -> Arrow:\n",
    "    return date.replace(day=1).shift(months=+1, days=-1)\n",
    "\n",
    "def in_this_month(date: Arrow) -> str:\n",
    "    return date.replace(day=1).format(FMT) + '..' + end_of_month(date).format(FMT)\n",
    "\n",
    "def before_this_month(date: Arrow) -> str:\n",
    "    return '<' + date.replace(day=1).format(FMT)\n",
    "\n",
    "def after_this_month(date: Arrow) -> str:\n",
    "    return '>' + end_of_month(date).format(FMT)\n",
    "\n",
    "def existing_tasks_open(date: Arrow, filt: str=\"\") -> int:\n",
    "    created_filter = before_this_month(date)\n",
    "    closed_filter = after_this_month(date)\n",
    "    query = f'repo:{REPO} {filt} created:{created_filter}'\n",
    "    closed_later = g.search_issues(query + f' closed:{closed_filter}')\n",
    "    still_open = g.search_issues(query + ' is:open')\n",
    "    return closed_later.totalCount + still_open.totalCount\n",
    "\n",
    "def existing_tasks_closed(date: Arrow, filt: str=\"\") -> int:\n",
    "    created_filter = before_this_month(date)\n",
    "    closed_filter = in_this_month(date)\n",
    "    res = g.search_issues(f'repo:{REPO} {filt} created:{created_filter} closed:{closed_filter}')\n",
    "    return res.totalCount\n",
    "\n",
    "def existing_tasks_merged(date: Arrow, filt: str=\"\") -> int:\n",
    "    created_filter = before_this_month(date)\n",
    "    closed_filter = in_this_month(date)\n",
    "    res = g.search_issues(f'repo:{REPO} {filt} created:{created_filter} merged:{closed_filter}')\n",
    "    return res.totalCount\n",
    "\n",
    "def new_tasks_open(date: Arrow, filt: str=\"\") -> int:\n",
    "    created_filter = in_this_month(date)\n",
    "    closed_filter = after_this_month(date)\n",
    "    query = f'repo:{REPO} {filt} created:{created_filter}'\n",
    "    closed_later = g.search_issues(query + f' closed:{closed_filter}')\n",
    "    still_open = g.search_issues(query + ' is:open')\n",
    "    return closed_later.totalCount + still_open.totalCount\n",
    "\n",
    "def new_tasks_closed(date: Arrow, filt: str=\"\") -> int:\n",
    "    created_filter = in_this_month(date)\n",
    "    closed_filter = in_this_month(date)\n",
    "    query = f'repo:{REPO} {filt} created:{created_filter} closed:{closed_filter}'\n",
    "    res = g.search_issues(query)\n",
    "    return res.totalCount\n",
    "\n",
    "def new_tasks_merged(date: Arrow, filt: str=\"\") -> int:\n",
    "    created_filter = in_this_month(date)\n",
    "    closed_filter = in_this_month(date)\n",
    "    query = f'repo:{REPO} {filt} created:{created_filter} merged:{closed_filter}'\n",
    "    res = g.search_issues(query)\n",
    "    return res.totalCount\n",
    "\n",
    "def get_issues(date: Arrow, filt: str=\"\"):\n",
    "    filt = \"is:issue \" + filt\n",
    "    data = [existing_tasks_open(date, filt),\n",
    "         existing_tasks_closed(date, filt),\n",
    "         new_tasks_open(date, filt),\n",
    "         new_tasks_closed(date, filt)\n",
    "    ]\n",
    "    \n",
    "    cols = ['Existing Issues (still open)',\n",
    "        'Existing Issues Closed',\n",
    "        'New Issues (still open)',\n",
    "        'New Issues Closed',\n",
    "    ]\n",
    "    result = dict(zip(cols, data))\n",
    "    \n",
    "    return pd.DataFrame(result, index=[date.date()])\n",
    "\n",
    "def get_team_tasks(date: Arrow, typ, filt: str=\"\"):\n",
    "    if typ == 'pr':\n",
    "        f_type = 'is:pr'\n",
    "        f_closed = 'merged'\n",
    "    elif typ == 'issue':\n",
    "        f_type = 'is:pr'\n",
    "        f_closed = 'closed'\n",
    "    else:\n",
    "        raise ValueError(\"`typ` field must be 'pr' or 'issue'\")\n",
    "    closed_filter = in_this_month(date)\n",
    "    data = [g.search_issues(f'repo:{REPO} {f_type} {team_authored} {filt} {f_closed}:{closed_filter}').totalCount,\n",
    "        g.search_issues(f'repo:{REPO} {f_type} {team_authored} {team_reviewed} {filt} {f_closed}:{closed_filter}').totalCount,\n",
    "        g.search_issues(f'repo:{REPO} {f_type} {team_reviewed} {filt} {f_closed}:{closed_filter}').totalCount,\n",
    "        g.search_issues(f'repo:{REPO} {f_type} {filt} {f_closed}:{closed_filter}').totalCount\n",
    "    ]\n",
    "    \n",
    "    cols = ['Team Authored', 'Team Authored & Reviewed', 'Team Reviewed', 'All']\n",
    "    \n",
    "    result = dict(zip(cols, data))\n",
    "    \n",
    "    return pd.DataFrame(result, index=[date.date()])\n",
    "    \n",
    "def get_prs(date: Arrow, filt: str=\"\"):\n",
    "    filt = \"is:pr \" + filt\n",
    "    data = [existing_tasks_open(date, filt),\n",
    "            existing_tasks_closed(date, filt),\n",
    "            existing_tasks_merged(date, filt),  \n",
    "            new_tasks_open(date, filt),\n",
    "            new_tasks_closed(date, filt),\n",
    "            new_tasks_merged(date, filt)\n",
    "    ]\n",
    "            \n",
    "    cols = ['Existing PRs (still open)',\n",
    "        'Existing PRs Closed',\n",
    "        'Existing PRs Merged',\n",
    "        'New PRs (still open)',\n",
    "        'New PRs Closed',\n",
    "        'New PRs Merged'\n",
    "    ]\n",
    "    \n",
    "    result = dict(zip(cols, data))\n",
    "    \n",
    "    return pd.DataFrame(result, index=[date.date()])\n",
    "\n",
    "def get_all_prs(date: Arrow, filt: str=\"\"):\n",
    "    filt = \"is:pr \" + filt\n",
    "\n",
    "    closed_filter = in_this_month(date)\n",
    "    query = f'repo:{REPO} {filt} merged:{closed_filter}'\n",
    "    prs = g.search_issues(query)\n",
    "\n",
    "    arr = [[\"user\", \"title\", \"milestone\", \"closed_at\", \"closed_by\", \"number\"]]\n",
    "    for pr in prs:\n",
    "        res = [pr.user.login, pr.title, pr.milestone, pr.closed_at, pr.closed_by.login, pr.number]\n",
    "        arr.append(res)\n",
    "    \n",
    "    \n",
    "    return pd.DataFrame(arr[1:], columns=arr[0])"
   ]
  },
  {
   "cell_type": "code",
   "execution_count": 5,
   "metadata": {},
   "outputs": [],
   "source": [
    "prs_df = pd.DataFrame()\n",
    "months_to_process = ['2021-01', '2021-02', '2021-03', '2021-04', '2021-05', '2021-06', '2021-07', '2021-08', '2021-09', '2021-10']"
   ]
  },
  {
   "cell_type": "code",
   "execution_count": 6,
   "metadata": {},
   "outputs": [],
   "source": [
    "for dt in months_to_process:\n",
    "    time.sleep(20)\n",
    "    arr = arrow.get(dt)\n",
    "    prs_df = prs_df.append(get_prs(arr))\n",
    "    months_to_process = months_to_process[1:]"
   ]
  },
  {
   "cell_type": "code",
   "execution_count": 7,
   "metadata": {},
   "outputs": [
    {
     "output_type": "execute_result",
     "data": {
      "text/plain": [
       "            Existing PRs (still open)  Existing PRs Closed  \\\n",
       "2021-01-01                          1                    2   \n",
       "2021-02-01                          1                    5   \n",
       "2021-03-01                          3                    2   \n",
       "2021-04-01                          2                    2   \n",
       "2021-05-01                          3                    2   \n",
       "2021-06-01                          4                    1   \n",
       "2021-07-01                          3                    3   \n",
       "2021-08-01                          2                    3   \n",
       "2021-09-01                          2                    7   \n",
       "2021-10-01                          7                    4   \n",
       "\n",
       "            Existing PRs Merged  New PRs (still open)  New PRs Closed  \\\n",
       "2021-01-01                    1                     5              52   \n",
       "2021-02-01                    4                     4              53   \n",
       "2021-03-01                    1                     1              62   \n",
       "2021-04-01                    1                     3              20   \n",
       "2021-05-01                    1                     2               9   \n",
       "2021-06-01                    1                     2              19   \n",
       "2021-07-01                    0                     2              19   \n",
       "2021-08-01                    3                     7              16   \n",
       "2021-09-01                    4                     9              24   \n",
       "2021-10-01                    1                     3               7   \n",
       "\n",
       "            New PRs Merged  \n",
       "2021-01-01              42  \n",
       "2021-02-01              48  \n",
       "2021-03-01              51  \n",
       "2021-04-01              18  \n",
       "2021-05-01               7  \n",
       "2021-06-01              16  \n",
       "2021-07-01              17  \n",
       "2021-08-01              14  \n",
       "2021-09-01              18  \n",
       "2021-10-01               2  "
      ],
      "text/html": "<div>\n<style scoped>\n    .dataframe tbody tr th:only-of-type {\n        vertical-align: middle;\n    }\n\n    .dataframe tbody tr th {\n        vertical-align: top;\n    }\n\n    .dataframe thead th {\n        text-align: right;\n    }\n</style>\n<table border=\"1\" class=\"dataframe\">\n  <thead>\n    <tr style=\"text-align: right;\">\n      <th></th>\n      <th>Existing PRs (still open)</th>\n      <th>Existing PRs Closed</th>\n      <th>Existing PRs Merged</th>\n      <th>New PRs (still open)</th>\n      <th>New PRs Closed</th>\n      <th>New PRs Merged</th>\n    </tr>\n  </thead>\n  <tbody>\n    <tr>\n      <th>2021-01-01</th>\n      <td>1</td>\n      <td>2</td>\n      <td>1</td>\n      <td>5</td>\n      <td>52</td>\n      <td>42</td>\n    </tr>\n    <tr>\n      <th>2021-02-01</th>\n      <td>1</td>\n      <td>5</td>\n      <td>4</td>\n      <td>4</td>\n      <td>53</td>\n      <td>48</td>\n    </tr>\n    <tr>\n      <th>2021-03-01</th>\n      <td>3</td>\n      <td>2</td>\n      <td>1</td>\n      <td>1</td>\n      <td>62</td>\n      <td>51</td>\n    </tr>\n    <tr>\n      <th>2021-04-01</th>\n      <td>2</td>\n      <td>2</td>\n      <td>1</td>\n      <td>3</td>\n      <td>20</td>\n      <td>18</td>\n    </tr>\n    <tr>\n      <th>2021-05-01</th>\n      <td>3</td>\n      <td>2</td>\n      <td>1</td>\n      <td>2</td>\n      <td>9</td>\n      <td>7</td>\n    </tr>\n    <tr>\n      <th>2021-06-01</th>\n      <td>4</td>\n      <td>1</td>\n      <td>1</td>\n      <td>2</td>\n      <td>19</td>\n      <td>16</td>\n    </tr>\n    <tr>\n      <th>2021-07-01</th>\n      <td>3</td>\n      <td>3</td>\n      <td>0</td>\n      <td>2</td>\n      <td>19</td>\n      <td>17</td>\n    </tr>\n    <tr>\n      <th>2021-08-01</th>\n      <td>2</td>\n      <td>3</td>\n      <td>3</td>\n      <td>7</td>\n      <td>16</td>\n      <td>14</td>\n    </tr>\n    <tr>\n      <th>2021-09-01</th>\n      <td>2</td>\n      <td>7</td>\n      <td>4</td>\n      <td>9</td>\n      <td>24</td>\n      <td>18</td>\n    </tr>\n    <tr>\n      <th>2021-10-01</th>\n      <td>7</td>\n      <td>4</td>\n      <td>1</td>\n      <td>3</td>\n      <td>7</td>\n      <td>2</td>\n    </tr>\n  </tbody>\n</table>\n</div>"
     },
     "metadata": {},
     "execution_count": 7
    }
   ],
   "source": [
    "prs_df"
   ]
  },
  {
   "cell_type": "code",
   "execution_count": 8,
   "metadata": {},
   "outputs": [],
   "source": [
    "issues_df = pd.DataFrame()\n",
    "months_to_process = ['2021-01','2021-02', '2021-03', '2021-04', '2021-05', '2021-06', '2021-07','2021-08', '2021-09', '2021-10']"
   ]
  },
  {
   "cell_type": "code",
   "execution_count": 13,
   "metadata": {},
   "outputs": [],
   "source": [
    "for dt in months_to_process:\n",
    "    time.sleep(12)\n",
    "    arr = arrow.get(dt)\n",
    "    issues_df = issues_df.append(get_issues(arr))\n",
    "    months_to_process = months_to_process[1:]"
   ]
  },
  {
   "cell_type": "code",
   "execution_count": 14,
   "metadata": {},
   "outputs": [
    {
     "output_type": "execute_result",
     "data": {
      "text/plain": [
       "            Existing Issues (still open)  Existing Issues Closed  \\\n",
       "2021-01-01                            40                       6   \n",
       "2021-02-01                            38                      24   \n",
       "2021-03-01                            54                       3   \n",
       "\n",
       "            New Issues (still open)  New Issues Closed  \n",
       "2021-01-01                       22                 14  \n",
       "2021-02-01                       19                 22  \n",
       "2021-03-01                       11                 17  "
      ],
      "text/html": "<div>\n<style scoped>\n    .dataframe tbody tr th:only-of-type {\n        vertical-align: middle;\n    }\n\n    .dataframe tbody tr th {\n        vertical-align: top;\n    }\n\n    .dataframe thead th {\n        text-align: right;\n    }\n</style>\n<table border=\"1\" class=\"dataframe\">\n  <thead>\n    <tr style=\"text-align: right;\">\n      <th></th>\n      <th>Existing Issues (still open)</th>\n      <th>Existing Issues Closed</th>\n      <th>New Issues (still open)</th>\n      <th>New Issues Closed</th>\n    </tr>\n  </thead>\n  <tbody>\n    <tr>\n      <th>2021-01-01</th>\n      <td>40</td>\n      <td>6</td>\n      <td>22</td>\n      <td>14</td>\n    </tr>\n    <tr>\n      <th>2021-02-01</th>\n      <td>38</td>\n      <td>24</td>\n      <td>19</td>\n      <td>22</td>\n    </tr>\n    <tr>\n      <th>2021-03-01</th>\n      <td>54</td>\n      <td>3</td>\n      <td>11</td>\n      <td>17</td>\n    </tr>\n  </tbody>\n</table>\n</div>"
     },
     "metadata": {},
     "execution_count": 14
    }
   ],
   "source": [
    "issues_df"
   ]
  },
  {
   "cell_type": "code",
   "execution_count": 15,
   "metadata": {},
   "outputs": [],
   "source": [
    "team_prs = pd.DataFrame()\n",
    "months_to_process = ['2021-01','2021-02', '2021-03', '2021-04', '2021-05', '2021-06', '2021-07','2021-08', '2021-09', '2021-10']"
   ]
  },
  {
   "cell_type": "code",
   "execution_count": null,
   "metadata": {},
   "outputs": [],
   "source": [
    "for dt in months_to_process:\n",
    "    time.sleep(9)\n",
    "    arr = arrow.get(dt)\n",
    "    team_prs = team_prs.append(get_team_tasks(arr, 'pr'))\n",
    "    months_to_process = months_to_process[1:]\n",
    "team_prs"
   ]
  },
  {
   "cell_type": "code",
   "execution_count": null,
   "metadata": {},
   "outputs": [],
   "source": []
  }
 ],
 "metadata": {
  "kernelspec": {
   "name": "python376jvsc74a57bd0b66f447de9f2983f3008565b7274e26fd46e52805582469d229906371db7dfa0",
   "display_name": "Python 3.7.6 64-bit ('anaconda3': virtualenv)"
  },
  "language_info": {
   "codemirror_mode": {
    "name": "ipython",
    "version": 3
   },
   "file_extension": ".py",
   "mimetype": "text/x-python",
   "name": "python",
   "nbconvert_exporter": "python",
   "pygments_lexer": "ipython3",
   "version": "3.7.6"
  }
 },
 "nbformat": 4,
 "nbformat_minor": 2
}
